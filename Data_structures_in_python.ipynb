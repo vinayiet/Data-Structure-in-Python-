{
 "cells": [
  {
   "cell_type": "code",
   "execution_count": 1,
   "id": "4b744d5f-9f78-49d5-ace3-b90515fb9713",
   "metadata": {},
   "outputs": [
    {
     "name": "stdin",
     "output_type": "stream",
     "text": [
      "Write a string here:  vinay\n"
     ]
    },
    {
     "name": "stdout",
     "output_type": "stream",
     "text": [
      "yaniv\n"
     ]
    }
   ],
   "source": [
    "# program to reverse a string\n",
    "t = input(\"Write a string here: \")\n",
    "t_reversed = t[::-1] \n",
    "print(t_reversed)\n",
    "\n"
   ]
  },
  {
   "cell_type": "code",
   "execution_count": 10,
   "id": "f1fc0938-9751-46df-9efe-a34f29533867",
   "metadata": {},
   "outputs": [
    {
     "name": "stdin",
     "output_type": "stream",
     "text": [
      "Enter any string:  vinay\n"
     ]
    },
    {
     "name": "stdout",
     "output_type": "stream",
     "text": [
      "2\n"
     ]
    }
   ],
   "source": [
    "# write a code to count number of vowels in a string\n",
    "str  = input(\"Enter any string: \")\n",
    "count = 0\n",
    "vowels = [ \"a\", \"e\", \"i\", \"o\", \"u\" ]\n",
    "for c in str:\n",
    "    if c.lower() in vowels:\n",
    "        count += 1\n",
    "print(count)"
   ]
  },
  {
   "cell_type": "code",
   "execution_count": 13,
   "id": "805b8248-d798-44a2-8ab9-2ab88dd5e2a3",
   "metadata": {},
   "outputs": [
    {
     "name": "stdin",
     "output_type": "stream",
     "text": [
      "Enter any string to check this is palindrome or not:  ana\n"
     ]
    },
    {
     "name": "stdout",
     "output_type": "stream",
     "text": [
      "This string is palindrome\n"
     ]
    }
   ],
   "source": [
    "# COde for checking if the string is palindrome or not.\n",
    "str = input(\"Enter any string to check this is palindrome or not: \")\n",
    "if(str == str[::-1]):\n",
    "    print(\"This string is palindrome\")\n",
    "else:\n",
    "    print(\"This string is not palindrome\")"
   ]
  },
  {
   "cell_type": "code",
   "execution_count": 16,
   "id": "cc6fff94-7831-4adb-8b54-c8dd520afb7a",
   "metadata": {},
   "outputs": [
    {
     "name": "stdin",
     "output_type": "stream",
     "text": [
      "Enter string1:  race\n",
      "Enter string 2:  acre\n"
     ]
    },
    {
     "name": "stdout",
     "output_type": "stream",
     "text": [
      "These two strings are anagrams of each other\n"
     ]
    }
   ],
   "source": [
    "# check if two strings are anagrams of each other\n",
    "str1 = input(\"Enter string1: \")\n",
    "str2 = input(\"Enter string 2: \")\n",
    "str_1 = str1.replace(\" \", \"\").lower()\n",
    "str_2 = str2.replace(\" \", \"\").lower()\n",
    "sorted_str1 = sorted(str_1)\n",
    "sorted_str2 = sorted(str_2)\n",
    "if sorted_str1 == sorted_str2:\n",
    "    print(\"These two strings are anagrams of each other\")\n",
    "else:\n",
    "    print(\"These are not anagrams of each other.\")\n",
    "\n"
   ]
  },
  {
   "cell_type": "code",
   "execution_count": 1,
   "id": "b61c3a8b-f747-43ee-baa5-507743fc909e",
   "metadata": {},
   "outputs": [
    {
     "name": "stdout",
     "output_type": "stream",
     "text": [
      "All occurrences found at positions: [0, 12]\n"
     ]
    }
   ],
   "source": [
    "# Write all the occurences which are occured in the given string \n",
    "def find_all_occurrences(main_string, substring):\n",
    "    occurrences = []\n",
    "    start = 0\n",
    "    while True:\n",
    "        start = main_string.find(substring, start)\n",
    "        if start == -1:\n",
    "            break\n",
    "        occurrences.append(start)\n",
    "        start += 1\n",
    "    return occurrences\n",
    "\n",
    "main_string = \"hello world hello\"\n",
    "substring = \"hello\"\n",
    "\n",
    "all_occurrences = find_all_occurrences(main_string, substring)\n",
    "print(\"All occurrences found at positions:\", all_occurrences)\n"
   ]
  },
  {
   "cell_type": "code",
   "execution_count": 6,
   "id": "b8074639-34c0-47c6-b9c9-cd5530465bec",
   "metadata": {},
   "outputs": [
    {
     "name": "stdin",
     "output_type": "stream",
     "text": [
      "Enter the characters:  aaabb\n"
     ]
    },
    {
     "name": "stdout",
     "output_type": "stream",
     "text": [
      "a3b2\n"
     ]
    }
   ],
   "source": [
    "# Write a code to perform basic string compression using count of repeated characters.\n",
    "c = input(\"Enter the characters: \" )\n",
    "char_count = {}\n",
    "string = \"\"\n",
    "for char in c:\n",
    "    if char in char_count:\n",
    "        char_count[char] += 1\n",
    "    else:\n",
    "        char_count[char] = 1\n",
    "        \n",
    "for char, count in char_count.items():\n",
    "    string += char + str(count)\n",
    "    \n",
    "print(string)\n",
    "        \n",
    "    \n",
    "        \n",
    "    \n",
    "    "
   ]
  },
  {
   "cell_type": "code",
   "execution_count": 7,
   "id": "d8044493-b2e9-4d71-a9f3-f1447696f25a",
   "metadata": {},
   "outputs": [
    {
     "name": "stdin",
     "output_type": "stream",
     "text": [
      "Enter the characters:  aaaab\n"
     ]
    },
    {
     "name": "stdout",
     "output_type": "stream",
     "text": [
      "ab\n"
     ]
    }
   ],
   "source": [
    "# Print unique elements in from the given string \n",
    "c = input(\"Enter the characters: \" )\n",
    "char_count = {}\n",
    "string = \"\"\n",
    "for char in c:\n",
    "    if char in char_count:\n",
    "        char_count[char] += 1\n",
    "    else:\n",
    "        char_count[char] = 1\n",
    "        \n",
    "for char, count in char_count.items():\n",
    "    string += char \n",
    "    \n",
    "\n",
    "print(string)"
   ]
  },
  {
   "cell_type": "code",
   "execution_count": 8,
   "id": "4e1a425c-d8cd-448b-935e-474a34bcafea",
   "metadata": {},
   "outputs": [
    {
     "name": "stdin",
     "output_type": "stream",
     "text": [
      "Enter any string VINAY\n"
     ]
    },
    {
     "name": "stdout",
     "output_type": "stream",
     "text": [
      "vinay\n",
      "VINAY\n"
     ]
    }
   ],
   "source": [
    "# Convert a string into the uppercase and into the lower case\n",
    "s = input(\"Enter any string\")\n",
    "print(s.lower())\n",
    "print(s.upper())"
   ]
  },
  {
   "cell_type": "code",
   "execution_count": 24,
   "id": "2492f95d-6734-4a7b-8d1c-bb2ae5060013",
   "metadata": {},
   "outputs": [
    {
     "name": "stdin",
     "output_type": "stream",
     "text": [
      "Enter any sentence:  Vinay is good boy\n"
     ]
    },
    {
     "name": "stdout",
     "output_type": "stream",
     "text": [
      "words with the frequency: \n",
      "Word:  Vinay   freq: 1\n",
      "Word:  is   freq: 1\n",
      "Word:  good   freq: 1\n",
      "Word:  boy   freq: 1\n"
     ]
    }
   ],
   "source": [
    "# Write a code to count words from a string \n",
    "words = input(\"Enter any sentence: \")\n",
    "words = words.split()\n",
    "sent = {}\n",
    "for word in words:\n",
    "    if word in sent:\n",
    "        sent[word] += 1\n",
    "    else:\n",
    "        sent[word] = 1\n",
    "print(\"words with the frequency: \")\n",
    "for word, count in sent.items():\n",
    "    print(f\"Word:  {word}   freq: {count}\")\n",
    "          "
   ]
  },
  {
   "cell_type": "code",
   "execution_count": 25,
   "id": "f8869581-f1b8-41aa-946f-02329c340cc9",
   "metadata": {},
   "outputs": [
    {
     "name": "stdin",
     "output_type": "stream",
     "text": [
      "Enter string 1:  vinay\n",
      "Enter string 2:  sharma\n"
     ]
    },
    {
     "name": "stdout",
     "output_type": "stream",
     "text": [
      "vinaysharma\n"
     ]
    }
   ],
   "source": [
    "# Implement to a code to concatenate the two string without using the + operator\n",
    "string_1 = input(\"Enter string 1: \")\n",
    "string_2 = input(\"Enter string 2: \")\n",
    "concatenated_string = f\"{string_1}{string_2}\"\n",
    "print(concatenated_string)"
   ]
  },
  {
   "cell_type": "code",
   "execution_count": 4,
   "id": "f95faa14-21f6-4cc5-a11b-743197e42bff",
   "metadata": {},
   "outputs": [
    {
     "name": "stdout",
     "output_type": "stream",
     "text": [
      "[1, 3, 5, 6]\n"
     ]
    }
   ],
   "source": [
    "# Write a code to remove all occurences of a specific element from a list \n",
    "l1 = [1,2,3,5,2,6]\n",
    "element_to_remove = 2\n",
    "filtered_list = list(filter(lambda x: x != element_to_remove, l1))\n",
    "print(filtered_list)\n",
    "    \n"
   ]
  },
  {
   "cell_type": "code",
   "execution_count": 9,
   "id": "7b6b853e-3547-4345-86be-0a0dbc00746d",
   "metadata": {},
   "outputs": [
    {
     "name": "stdout",
     "output_type": "stream",
     "text": [
      "5\n"
     ]
    }
   ],
   "source": [
    "# implement a code to find the second largest value in the given list\n",
    "def second_largest(l1):\n",
    "    sorted_list = sorted(l1)\n",
    "    n = sorted_list[len(l1) - 2]\n",
    "    return n\n",
    "        \n",
    "l1 = [-1,3,4,7,5]    \n",
    "ans = second_largest(l1)\n",
    "print(ans)"
   ]
  },
  {
   "cell_type": "code",
   "execution_count": null,
   "id": "bcc7cff7-5804-4f00-98e5-5ae03ab2229c",
   "metadata": {},
   "outputs": [],
   "source": [
    "# create a code to find the occurences of each element in a list and return a dictionary with keys and their occurences \n"
   ]
  },
  {
   "cell_type": "code",
   "execution_count": 10,
   "id": "d95aeb38-878f-4c61-8ee0-e5a67ca538d3",
   "metadata": {},
   "outputs": [
    {
     "name": "stdout",
     "output_type": "stream",
     "text": [
      "[1, 2, 3, 4, 5, 4, 5, 6, 7, 8]\n"
     ]
    }
   ],
   "source": [
    "# write a code to merge two lists\n",
    "l1 = [1,2,3,4,5]\n",
    "l2 = [4,5,6,7,8]\n",
    "l3 = l1 + l2\n",
    "print(l3)"
   ]
  },
  {
   "cell_type": "code",
   "execution_count": 13,
   "id": "c9f386d0-1732-4d34-abd1-a7ffcbc4367f",
   "metadata": {},
   "outputs": [
    {
     "name": "stdout",
     "output_type": "stream",
     "text": [
      "[5, 4, 3, 2, 1]\n"
     ]
    }
   ],
   "source": [
    "# Write a code to reverse a list without using a inbuilt reverse function and using in-place \n",
    "def reverse_list(l1):\n",
    "    start = 0\n",
    "    end = len(l1) - 1\n",
    "    \n",
    "    while start < end:\n",
    "        temp = l1[start]\n",
    "        l1[start] = l1[end]\n",
    "        l1[end] = temp\n",
    "        \n",
    "        start += 1\n",
    "        end -= 1\n",
    "\n",
    "    return l1\n",
    "\n",
    "\n",
    "l1 = [1, 2, 3, 4, 5]\n",
    "ans = reverse_list(l1)\n",
    "print(ans)\n"
   ]
  },
  {
   "cell_type": "code",
   "execution_count": null,
   "id": "4e79f3d7-fdaf-4215-96f0-8a0ea48f9d52",
   "metadata": {},
   "outputs": [],
   "source": [
    "# Implement a code to find the duplicates from the list while preserving the order of the elements of the list\n",
    "def remove_duplicate(original_list):\n",
    "    for i in original_list:\n",
    "        \n",
    "\n",
    "\n",
    "\n",
    "\n",
    "original_list = [1,3,2,4,5,4,3,2,5]\n",
    "ans = remove_duplicate(original_list)"
   ]
  },
  {
   "cell_type": "code",
   "execution_count": 17,
   "id": "fdb1c8c2-7419-4543-b8ae-bbe90cfcef8d",
   "metadata": {},
   "outputs": [
    {
     "name": "stdout",
     "output_type": "stream",
     "text": [
      "[3, 4, 5]\n"
     ]
    }
   ],
   "source": [
    "# Implement a code to find the intersection of the two lists\n",
    "def intersection_list(l1,l2):\n",
    "    set1 = set(l1)\n",
    "    set2 = set(l2)\n",
    "    return list(set1 & set2)\n",
    "\n",
    "\n",
    "l1 = [1,2,3,4,5]\n",
    "l2 = [3,4,5,7,8]\n",
    "ans = intersection_list(l1,l2)\n",
    "print(ans)"
   ]
  },
  {
   "cell_type": "code",
   "execution_count": 2,
   "id": "a2c37c07-b5ff-4c90-b819-722738fbdf50",
   "metadata": {},
   "outputs": [
    {
     "name": "stdout",
     "output_type": "stream",
     "text": [
      "The list is sorted in ascending order.\n",
      "The list is sorted in descending order.\n",
      "The list is not sorted.\n"
     ]
    }
   ],
   "source": [
    "# write a code to find the that list is sorted or not (either in aecending order or in descending order )\n",
    "def check_list(l):\n",
    "    ascending = all(l[i] <= l[i + 1] for i in range(len(l) - 1))\n",
    "    descending = all(l[i] >= l[i + 1] for i in range(len(l) - 1))\n",
    "\n",
    "    if ascending:\n",
    "        print(\"The list is sorted in ascending order.\")\n",
    "    elif descending:\n",
    "        print(\"The list is sorted in descending order.\")\n",
    "    else:\n",
    "        print(\"The list is not sorted.\")\n",
    "ascending_list = [1, 2, 3, 4, 5]\n",
    "descending_list = [5, 4, 3, 2, 1]\n",
    "unsorted_list = [3, 1, 4, 2, 5]\n",
    "\n",
    "check_list(ascending_list)\n",
    "check_list(descending_list)\n",
    "check_list(unsorted_list)"
   ]
  },
  {
   "cell_type": "code",
   "execution_count": 5,
   "id": "1540ea1c-d02c-4ee3-ac59-dfb9410ce051",
   "metadata": {},
   "outputs": [
    {
     "name": "stdout",
     "output_type": "stream",
     "text": [
      "[1, 2, 3, 4, 5]\n"
     ]
    }
   ],
   "source": [
    "# write a code for the union of the two lists\n",
    "l1 = [5, 4, 3, 2, 1]\n",
    "l2 = [3, 1, 4, 2, 5]\n",
    "l3 = set(l1).union(set(l2))\n",
    "print(list(l3))"
   ]
  },
  {
   "cell_type": "code",
   "execution_count": 12,
   "id": "8b48b24a-155f-43f5-af37-eb5d6a6d520c",
   "metadata": {},
   "outputs": [
    {
     "name": "stdout",
     "output_type": "stream",
     "text": [
      "[1, 3, 6, 4, 5, 2]\n"
     ]
    }
   ],
   "source": [
    "# Write a code to shuffle a given list randomly without using any inbuilt shuffle function \n",
    "import random \n",
    "def suffle_list(my_list):\n",
    "    n = len(my_list)\n",
    "    for i in range(n - 1, 0, -1):\n",
    "        j = random.randint(0, i) \n",
    "        my_list[i], my_list[j] = my_list[j], my_list[i]\n",
    "    \n",
    "        \n",
    "my_list = [1,2,3,4,5,6]\n",
    "suffle_list(my_list)\n",
    "print(my_list)"
   ]
  },
  {
   "cell_type": "code",
   "execution_count": 1,
   "id": "8cdc336f-dd85-4509-8ed2-7ce2a43ed083",
   "metadata": {},
   "outputs": [
    {
     "name": "stdin",
     "output_type": "stream",
     "text": [
      "Enter elements for the first tuple separated by spaces:  1 2 3 4\n",
      "Enter elements for the second tuple separated by spaces:  4 5 6 7\n"
     ]
    },
    {
     "name": "stdout",
     "output_type": "stream",
     "text": [
      "Concatenated tuple without repeating elements: (1, 2, 3, 4, 5, 6, 7)\n"
     ]
    }
   ],
   "source": [
    "# Write a code to concatenate two tuples and the function should not return the repeated value in the list\n",
    "def concatenate_tuples(tuple1, tuple2):\n",
    "    set1 = set(tuple1)\n",
    "    set2 = set(tuple2)\n",
    "    combined_set = set1.union(set2)\n",
    "    combined_tuple = tuple(combined_set)\n",
    "    return combined_tuple\n",
    "\n",
    "tuple1_input = input(\"Enter elements for the first tuple separated by spaces: \")\n",
    "tuple1 = tuple(map(int, tuple1_input.split()))\n",
    "\n",
    "tuple2_input = input(\"Enter elements for the second tuple separated by spaces: \")\n",
    "tuple2 = tuple(map(int, tuple2_input.split()))\n",
    "\n",
    "result = concatenate_tuples(tuple1, tuple2)\n",
    "print(\"Concatenated tuple without repeating elements:\", result)\n"
   ]
  },
  {
   "cell_type": "code",
   "execution_count": 3,
   "id": "ac8cb24c-5874-4157-aa4b-d373079f2c5d",
   "metadata": {},
   "outputs": [
    {
     "name": "stdin",
     "output_type": "stream",
     "text": [
      "Enter set 1:  1,2,3,4,5\n",
      "Enter set 2:  4,5,6,7\n"
     ]
    },
    {
     "name": "stdout",
     "output_type": "stream",
     "text": [
      "{4, 5}\n"
     ]
    }
   ],
   "source": [
    "# Create a code that prompts the user to enter two sets of integer seperated by comma then pprint the intersection of two sets \n",
    "user_input1 = input(\"Enter set 1: \")\n",
    "set_1 = set(map(int, user_input1.split(',')))\n",
    "user_input2 = input(\"Enter set 2: \")\n",
    "set_2 = set(map(int, user_input2.split(',')))\n",
    "intersected_set = set_1.intersection(set_2)\n",
    "print(intersected_set)"
   ]
  },
  {
   "cell_type": "code",
   "execution_count": 8,
   "id": "207464d1-56a2-4272-b9f4-7c673b708309",
   "metadata": {},
   "outputs": [
    {
     "name": "stdin",
     "output_type": "stream",
     "text": [
      "Enter tuple 1 separated by spaces:  1 2 3 4 5\n",
      "Enter tuple 2 separated by spaces:  3 4 5 6\n"
     ]
    },
    {
     "name": "stdout",
     "output_type": "stream",
     "text": [
      "Concatenated tuple: (1, 2, 3, 4, 5, 3, 4, 5, 6)\n"
     ]
    }
   ],
   "source": [
    "# Write a code to concatenate the two tuples and the function should take two tuples as input and return a new tuple containing containing the elements from both\n",
    "tuple_1 = input(\"Enter tuple 1 separated by spaces: \")\n",
    "tple_1 = tuple(map(int, tuple_1.split()))\n",
    "\n",
    "tuple_2 = input(\"Enter tuple 2 separated by spaces: \")\n",
    "tple_2 = tuple(map(int, tuple_2.split()))\n",
    "\n",
    "concatenated_tuple = tple_1 + tple_2\n",
    "print(\"Concatenated tuple:\", concatenated_tuple)\n",
    "\n"
   ]
  },
  {
   "cell_type": "code",
   "execution_count": 10,
   "id": "a689641f-8f52-456b-9bf1-71d23ebe0a1e",
   "metadata": {},
   "outputs": [
    {
     "name": "stdin",
     "output_type": "stream",
     "text": [
      "Enter string 1:  vinay abhishek\n",
      "Enter string 2:  abhishek vinay\n"
     ]
    },
    {
     "name": "stdout",
     "output_type": "stream",
     "text": [
      "Elements in set1 but not in set2: set()\n"
     ]
    }
   ],
   "source": [
    "# Develop a code that prompt the user to input two set of  strings. then , print the elements that are present in first set but not in the second set \n",
    "string1 = input(\"Enter string 1: \")\n",
    "set_1 = set(string1.split())  # Create set from elements of string1\n",
    "\n",
    "string2 = input(\"Enter string 2: \")\n",
    "set_2 = set(string2.split())  # Create set from elements of string2\n",
    "\n",
    "diff = set_1 - set_2  # Find elements in set_1 but not in set_2\n",
    "print(\"Elements in set1 but not in set2:\", diff)\n"
   ]
  },
  {
   "cell_type": "code",
   "execution_count": 11,
   "id": "fa90434a-a075-4b60-aa24-af2f537a3235",
   "metadata": {},
   "outputs": [
    {
     "name": "stdin",
     "output_type": "stream",
     "text": [
      "Enter the start index:  2\n",
      "Enter the end index:  3\n"
     ]
    },
    {
     "name": "stdout",
     "output_type": "stream",
     "text": [
      "Sliced tuple: (3, 4)\n"
     ]
    }
   ],
   "source": [
    "# create a code that takes a tuple and two intergers as input\n",
    "# the function should return a new tuple containing elements from the original tuple \n",
    "# withr the specified range of indices \n",
    "def slice_tuple(input_tuple, start_idx, end_idx):\n",
    "    if start_idx < 0 or end_idx >= len(input_tuple) or start_idx > end_idx:\n",
    "        return ()\n",
    "    \n",
    "    sliced_tuple = input_tuple[start_idx:end_idx+1]\n",
    "    return sliced_tuple\n",
    "\n",
    "input_tuple = (1, 2, 3, 4, 5, 6, 7)\n",
    "start_index = int(input(\"Enter the start index: \"))\n",
    "end_index = int(input(\"Enter the end index: \"))\n",
    "\n",
    "result_tuple = slice_tuple(input_tuple, start_index, end_index)\n",
    "print(\"Sliced tuple:\", result_tuple)\n"
   ]
  },
  {
   "cell_type": "code",
   "execution_count": null,
   "id": "4b8cdf13-ec1a-4685-853a-cf37c438930f",
   "metadata": {},
   "outputs": [],
   "source": [
    "# Develop a code that takes a tuple of integers as input.\n",
    "# The function should return the maximum and minimum values from the tuple using tuple unpacking.\n",
    "input_tuple = tuple(map(int, input(\"Enter elements for the tuple separated by spaces: \").split()))\n",
    "max_value, min_value = max(input_tuple), min(input_tuple)\n",
    "print(\"Maximum value:\", max_value)\n",
    "print(\"Minimum value:\", min_value)\n"
   ]
  },
  {
   "cell_type": "code",
   "execution_count": null,
   "id": "2ce74464-5a6b-41b3-9936-5040e9810d98",
   "metadata": {},
   "outputs": [],
   "source": [
    "# Create a code that defines two sets of integers.\n",
    "# Then, print the union, intersection, and difference of these two sets.\n",
    "set1 = {1, 2, 3, 4}\n",
    "set2 = {3, 4, 5, 6}\n",
    "union_set = set1.union(set2)\n",
    "intersection_set = set1.intersection(set2)\n",
    "difference_set = set1.difference(set2)\n",
    "print(\"Union:\", union_set)\n",
    "print(\"Intersection:\", intersection_set)\n",
    "print(\"Difference (set1 - set2):\", difference_set)\n"
   ]
  },
  {
   "cell_type": "code",
   "execution_count": null,
   "id": "d1b04073-5bce-414b-8ca0-6ba7bec4a753",
   "metadata": {},
   "outputs": [],
   "source": [
    "# Write a code that takes a tuple and an element as input.\n",
    "# The function should return the count of occurrences of the given element in the tuple.\n",
    "input_tuple = tuple(input(\"Enter elements for the tuple separated by spaces: \").split())\n",
    "element_to_count = input(\"Enter an element to count its occurrences in the tuple: \")\n",
    "count_occurrences = input_tuple.count(element_to_count)\n",
    "print(\"Occurrences of\", element_to_count, \"in the tuple:\", count_occurrences)\n"
   ]
  },
  {
   "cell_type": "code",
   "execution_count": null,
   "id": "cc3f51a1-3b34-4a29-9582-83b63db3ad19",
   "metadata": {},
   "outputs": [],
   "source": [
    "# Develop a code that prompts the user to input two sets of strings.\n",
    "# Then, print the symmetric difference of these two sets.\n",
    "set1 = set(input(\"Enter elements for set 1 separated by spaces: \"))\n",
    "set2 = set(input(\"Enter elements for set 2 separated by spaces: \"))\n",
    "symmetric_diff = set1.symmetric_difference(set2)\n",
    "print(\"Symmetric Difference:\", symmetric_diff)\n"
   ]
  },
  {
   "cell_type": "code",
   "execution_count": null,
   "id": "57c78ab6-a2b6-47ac-a88a-8e5d80c1df71",
   "metadata": {},
   "outputs": [],
   "source": [
    "# Write a code that takes a list of words as input.\n",
    "# The code should return a dictionary where the keys are unique words\n",
    "# and the values are the frequencies of those words in the input list.\n",
    "word_list = input(\"Enter a list of words separated by spaces: \").split()\n",
    "word_freq = {word: word_list.count(word) for word in set(word_list)}\n",
    "print(\"Word frequencies:\", word_freq)\n"
   ]
  },
  {
   "cell_type": "code",
   "execution_count": null,
   "id": "b5868769-c570-4912-b221-f02472e79c63",
   "metadata": {},
   "outputs": [],
   "source": [
    "# Write a code that takes two dictionaries as input and merges them into a single dictionary.\n",
    "# If there are common keys, the values should be added together.\n",
    "def merge_dicts(dict1, dict2):\n",
    "    merged_dict = dict1.copy()\n",
    "    for key, value in dict2.items():\n",
    "        merged_dict[key] = merged_dict.get(key, 0) + value\n",
    "    return merged_dict\n",
    "\n",
    "# Example usage:\n",
    "dict1 = {'a': 10, 'b': 20}\n",
    "dict2 = {'b': 30, 'c': 40}\n",
    "merged_result = merge_dicts(dict1, dict2)\n",
    "print(\"Merged dictionary with added values:\", merged_result)\n"
   ]
  },
  {
   "cell_type": "code",
   "execution_count": null,
   "id": "d62f29cd-0484-4b25-970c-b61830a81a64",
   "metadata": {},
   "outputs": [],
   "source": [
    "# Write a code to access a value in a nested dictionary.\n",
    "# The function should take the dictionary and a list of keys as input,\n",
    "# and return the corresponding value. Return None if any key doesn't exist.\n",
    "def get_nested_value(input_dict, keys_list):\n",
    "    try:\n",
    "        value = input_dict\n",
    "        for key in keys_list:\n",
    "            value = value[key]\n",
    "        return value\n",
    "    except (KeyError, TypeError):\n",
    "        return None\n",
    "\n",
    "# Example usage:\n",
    "nested_dict = {'a': {'b': {'c': 100}}}\n",
    "keys_to_access = ['a', 'b', 'c']\n",
    "result_value = get_nested_value(nested_dict, keys_to_access)\n",
    "print(\"Value accessed from nested dictionary:\", result_value)\n"
   ]
  },
  {
   "cell_type": "code",
   "execution_count": null,
   "id": "9ccced5b-c558-486b-83c1-568ee501eeb0",
   "metadata": {},
   "outputs": [],
   "source": [
    "# Write a code that takes a dictionary as input and returns a sorted version of it based on the values.\n",
    "# You can choose whether to sort in ascending or descending order.\n",
    "def sort_dict_by_values(input_dict, reverse=False):\n",
    "    sorted_dict = dict(sorted(input_dict.items(), key=lambda item: item[1], reverse=reverse))\n",
    "    return sorted_dict\n",
    "\n",
    "# Example usage:\n",
    "input_dict = {'a': 10, 'b': 30, 'c': 20}\n",
    "sorted_dict_asc = sort_dict_by_values(input_dict)\n",
    "sorted_dict_desc = sort_dict_by_values(input_dict, reverse=True)\n",
    "print(\"Sorted dictionary (ascending):\", sorted_dict_asc)\n",
    "print(\"Sorted dictionary (descending):\", sorted_dict_desc)\n"
   ]
  },
  {
   "cell_type": "code",
   "execution_count": null,
   "id": "0fa63352-adb5-4d30-ba6e-6cba8e63fe45",
   "metadata": {},
   "outputs": [],
   "source": [
    "# Write a code that inverts a dictionary, swapping keys and values.\n",
    "# Ensure that the inverted dictionary correctly handles cases where multiple keys have the same value\n",
    "# by storing the keys as a list in the inverted dictionary.\n",
    "def invert_dict(input_dict):\n",
    "    inverted_dict = {}\n",
    "    for key, value in input_dict.items():\n",
    "        if value in inverted_dict:\n",
    "            inverted_dict[value].append(key)\n",
    "        else:\n",
    "            inverted_dict[value] = [key]\n",
    "    return inverted_dict\n",
    "\n",
    "# Example usage:\n",
    "input_dict = {'a': 1, 'b': 2, 'c': 1, 'd': 3}\n",
    "inverted_result = invert_dict(input_dict)\n",
    "print(\"Inverted dictionary with lists as values:\", inverted_result)\n"
   ]
  }
 ],
 "metadata": {
  "kernelspec": {
   "display_name": "Python 3 (ipykernel)",
   "language": "python",
   "name": "python3"
  },
  "language_info": {
   "codemirror_mode": {
    "name": "ipython",
    "version": 3
   },
   "file_extension": ".py",
   "mimetype": "text/x-python",
   "name": "python",
   "nbconvert_exporter": "python",
   "pygments_lexer": "ipython3",
   "version": "3.10.8"
  }
 },
 "nbformat": 4,
 "nbformat_minor": 5
}
